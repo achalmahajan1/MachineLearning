{
  "nbformat": 4,
  "nbformat_minor": 0,
  "metadata": {
    "colab": {
      "name": "LearningAI: Chapter 3 - Neural Networks.ipynb",
      "provenance": []
    },
    "kernelspec": {
      "name": "python3",
      "display_name": "Python 3"
    },
    "language_info": {
      "name": "python"
    }
  },
  "cells": [
    {
      "cell_type": "markdown",
      "source": [
        " Logistic Regression with PyTorch. We will mostly see how to use Pytorch rather than numpy that we used in the previous 2 chapters. Pytorch has similar functionality and commands. The type of variable in pytorch is tensor compared to arrays in numpy."
      ],
      "metadata": {
        "id": "cqJGRIv-Y_Bf"
      }
    },
    {
      "cell_type": "code",
      "source": [
        "import torch\n",
        "import matplotlib.pyplot as plt\n",
        "from IPython import display\n",
        "import time\n",
        "# let’s make the same dataset which we constructed at the start of chapter 2, but this time, in PyTorch.\n",
        "X = torch.cat((torch.arange(15, dtype=float), torch.arange(20, 35, dtype=float)), axis=0)\n",
        "y = torch.cat((torch.zeros(15, dtype=float), torch.ones(15, dtype=float)), axis=0)"
      ],
      "metadata": {
        "id": "CmsFr_CKZ-QI"
      },
      "execution_count": null,
      "outputs": []
    },
    {
      "cell_type": "markdown",
      "source": [
        "Let’s continue rewriting our code from chapter 2, but using PyTorch instead."
      ],
      "metadata": {
        "id": "c4h3R4-waTbj"
      }
    },
    {
      "cell_type": "code",
      "source": [
        "def BCE(y, y_pred): ##log loss error (binary cross entropy)\n",
        "  return -torch.sum((y*torch.log(y_pred) + (1-y)*torch.log(1-y_pred)))/y.shape[0]"
      ],
      "metadata": {
        "id": "qFV9dMD9aT1W"
      },
      "execution_count": null,
      "outputs": []
    },
    {
      "cell_type": "code",
      "source": [
        "epoch_loss = []\n",
        "\n",
        "weights = torch.tensor([0., 0.])\n",
        "learning_rate = 1e-4\n",
        "n = X.shape[0]\n",
        "\n",
        "for epoch in range(600000+1): \n",
        "    linear = weights[0]*X + weights[1]\n",
        "    y_pred = 1/(1+torch.exp(-linear))\n",
        "    loss = BCE(y, y_pred)\n",
        "    epoch_loss.append(loss)\n",
        "\n",
        "\n",
        "    if(epoch%50000 == 0):\n",
        "        ######demo purpose only#####\n",
        "        display.display(plt.gcf())\n",
        "        display.clear_output(wait=True)\n",
        "        ##########plotting##########\n",
        "        fig, (ax0, ax1) = plt.subplots(ncols=2, constrained_layout=True)\n",
        "        fig.suptitle('epoch = {0}'.format(epoch))\n",
        "        ax0.scatter(X, y)\n",
        "        ax0.plot(X, y_pred, 'r')\n",
        "        ax0.set_title('weight0 = {0:.1f}, weight1 = {1:.1f}'.format(weights[0], weights[1]))\n",
        "        ax1.set_title('bce = {0:.2f}'.format(loss))\n",
        "        ax1.plot(epoch_loss)\n",
        "        plt.show()\n",
        "        time.sleep(1)\n",
        "        ############################\n",
        "    \n",
        "    ###simplified slope and bias derivatives with respect to loss###  \n",
        "    D_mse_wrt_slope = torch.sum(X * (y - y_pred))\n",
        "    D_mse_wrt_bias = torch.sum(y - y_pred)\n",
        "    ###########\n",
        "\n",
        "    weights[0] += learning_rate * D_mse_wrt_slope\n",
        "    weights[1] += learning_rate * D_mse_wrt_bias"
      ],
      "metadata": {
        "id": "pagZqtK1aVgg",
        "colab": {
          "base_uri": "https://localhost:8080/",
          "height": 330
        },
        "outputId": "90ef8f19-1644-45fe-d7a9-b1f2887ae325"
      },
      "execution_count": null,
      "outputs": [
        {
          "output_type": "display_data",
          "data": {
            "text/plain": [
              "<Figure size 432x288 with 0 Axes>"
            ]
          },
          "metadata": {}
        },
        {
          "output_type": "display_data",
          "data": {
            "text/plain": [
              "<Figure size 432x288 with 2 Axes>"
            ],
            "image/png": "[encoded data removed]"
          },
          "metadata": {
            "needs_background": "light"
          }
        }
      ]
    },
    {
      "cell_type": "markdown",
      "source": [
        "You might feel like the above code is different. But we can show that there is a fundamental difference between pytorch and numpy. In pytorch, we don't have to deal with derivatives. It takes care of it by using gradient descents which is a numerical algorithm to minimization rather than analytical solution to the derivatives of a function. The relevance of which is important for high dimensional complicated data sets.\n",
        "\n",
        "Let's see how it works"
      ],
      "metadata": {
        "id": "QFWHU3lObOBK"
      }
    },
    {
      "cell_type": "code",
      "source": [
        "epoch_loss = []\n",
        "\n",
        "weights = torch.tensor([0., 0.], requires_grad=True)\n",
        "learning_rate = 1e-2\n",
        "n = X.shape[0]\n",
        "\n",
        "for epoch in range(60000+1):\n",
        "    linear = weights[0]*X + weights[1]\n",
        "    y_pred = 1/(1+torch.exp(-linear))\n",
        "    loss = BCE(y, y_pred)\n",
        "    epoch_loss.append(loss.item())\n",
        "\n",
        "\n",
        "    if(epoch%5000 == 0):\n",
        "        ######demo purpose only#####\n",
        "        display.display(plt.gcf())\n",
        "        display.clear_output(wait=True)\n",
        "        ##########plotting##########\n",
        "        fig, (ax0, ax1) = plt.subplots(ncols=2, constrained_layout=True)\n",
        "        fig.suptitle('epoch = {0}'.format(epoch))\n",
        "        ax0.scatter(X, y)\n",
        "        ax0.plot(X, y_pred.detach().numpy(), 'r')\n",
        "        ax0.set_title('weight0 = {0:.1f}, weight1 = {1:.1f}'.format(weights[0], weights[1]))\n",
        "        ax1.set_title('bce = {0:.2f}'.format(loss))\n",
        "        ax1.plot(epoch_loss)\n",
        "        plt.show()\n",
        "        time.sleep(1)\n",
        "        ############################\n",
        "\n",
        "    ###autograd in action###\n",
        "    loss.backward()\n",
        "\n",
        "    with torch.no_grad():\n",
        "        weights -= learning_rate * weights.grad\n",
        "        \n",
        "    weights.grad.zero_()"
      ],
      "metadata": {
        "colab": {
          "base_uri": "https://localhost:8080/",
          "height": 330
        },
        "id": "kdnv08RNugi9",
        "outputId": "b1ef0261-0c8d-4768-ece0-87fc193f9999"
      },
      "execution_count": null,
      "outputs": [
        {
          "output_type": "display_data",
          "data": {
            "text/plain": [
              "<Figure size 432x288 with 0 Axes>"
            ]
          },
          "metadata": {}
        },
        {
          "output_type": "display_data",
          "data": {
            "text/plain": [
              "<Figure size 432x288 with 2 Axes>"
            ],
            "image/png": "[encoded data removed]"
          },
          "metadata": {
            "needs_background": "light"
          }
        }
      ]
    },
    {
      "cell_type": "markdown",
      "source": [
        "Three fundamental differences between the twoe methods.\n",
        "\n",
        "1.  The *_grad parameter of the tensor lets PyTorch know that the values in that tensor are those which need to be changed, so that our logistic regression can give us the optimal BCE.\n",
        "2.  When you use PyTorch’s built-in functionality (e.g., autograd), the code is optimized and actually runs faster than writing things from scratch. Can be seen from high learning rate and low epochs.\n",
        "1. Replaced our formulae derived via calculus with the line loss.backward(). That 1 line represents backpropagation. The one line code tells PyTorch that we’re looking for the derivatives of the weights (i.e., slope and bias) with respect to our loss (which in this case is BCE)\n",
        "\n",
        "\n",
        "\n",
        "\n",
        "\n"
      ],
      "metadata": {
        "id": "mywMk800uIiu"
      }
    }
  ]
}