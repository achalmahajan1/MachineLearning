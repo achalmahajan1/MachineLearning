{
  "nbformat": 4,
  "nbformat_minor": 0,
  "metadata": {
    "colab": {
      "name": "LearningAI: Chapter 2 - Logistic Regression.ipynb",
      "provenance": []
    },
    "kernelspec": {
      "name": "python3",
      "display_name": "Python 3"
    },
    "language_info": {
      "name": "python"
    }
  },
  "cells": [
    {
      "cell_type": "markdown",
      "source": [
        "In this chapter, we’ll cover logistic regression. First we'll import the same libraries that we did in Chapter 1.\n",
        "\n",
        "Source: https://medium.com/a-coders-guide-to-ai/a-coders-guide-to-neural-networks-chapter-2-logistic-regression-448d24653c24"
      ],
      "metadata": {
        "id": "3CpL7e5MCl3F"
      }
    },
    {
      "cell_type": "code",
      "source": [
        "import numpy as np\n",
        "import matplotlib.pyplot as plt\n",
        "from IPython import display\n",
        "import time\n",
        "# Preparing mock data again\n",
        "X = np.concatenate((np.arange(15, dtype=float), np.arange(20, 35, dtype=float)), axis=0) # Some integers \n",
        "y = np.concatenate((np.zeros(15, dtype=float), np.ones(15, dtype=float)), axis=0) #Just a bunch of zeros and ones\n",
        "\n",
        "plt.scatter(X, y)"
      ],
      "metadata": {
        "colab": {
          "base_uri": "https://localhost:8080/",
          "height": 282
        },
        "id": "fuRcC2QFCsuA",
        "outputId": "0190954b-af34-48b2-cefc-6173a1866f68"
      },
      "execution_count": null,
      "outputs": [
        {
          "output_type": "execute_result",
          "data": {
            "text/plain": [
              "<matplotlib.collections.PathCollection at 0x7f64202c3f90>"
            ]
          },
          "metadata": {},
          "execution_count": 5
        },
        {
          "output_type": "display_data",
          "data": {
            "text/plain": [
              "<Figure size 432x288 with 1 Axes>"
            ],
            "image/png": "[encoded data removed]"
          },
          "metadata": {
            "needs_background": "light"
          }
        }
      ]
    },
    {
      "cell_type": "markdown",
      "source": [
        "Good choice here would be to use Sigmoid Function to fit this data."
      ],
      "metadata": {
        "id": "KzpWMkveDz-O"
      }
    },
    {
      "cell_type": "code",
      "source": [
        "temp_X = np.arange(-20, 20, dtype=float)\n",
        "slope, bias = 1, 0\n",
        "linear_eqn = slope*temp_X+bias\n",
        "sigmoid_eqn = 1/(1+np.exp(-linear_eqn))\n",
        "plt.plot(temp_X, sigmoid_eqn)\n",
        "plt.show()"
      ],
      "metadata": {
        "id": "iHf5AE7yD4fN"
      },
      "execution_count": null,
      "outputs": []
    },
    {
      "cell_type": "markdown",
      "source": [
        "We could use MSE, like we did in linear regression, but that calculates the residuals (i.e., the distance between our best fit line and the actual points). That won’t make sense for logistic regression’s case. For logistic regression, we do care about is how many points on the graph are correctly classified.\n",
        "\n",
        "In this case, we will use log loss or binary cross entropy (BCE)"
      ],
      "metadata": {
        "id": "jAeWcnFvEkWa"
      }
    },
    {
      "cell_type": "code",
      "source": [
        "def BCE(y, y_pred): ##log loss error (binary cross entropy)\n",
        "    return -np.sum((y*np.log(y_pred) + (1-y)*np.log(1-y_pred)))/y.shape[0]"
      ],
      "metadata": {
        "id": "x4NbWEusE29C"
      },
      "execution_count": null,
      "outputs": []
    },
    {
      "cell_type": "markdown",
      "source": [
        "Now let's use the information to get the slope and bias for the sigmoid function"
      ],
      "metadata": {
        "id": "o3oyIBH5RRIj"
      }
    },
    {
      "cell_type": "code",
      "source": [
        "epoch_loss = []\n",
        "\n",
        "slope = 0.\n",
        "bias = 0.\n",
        "learning_rate = 1e-4\n",
        "n = X.shape[0]\n",
        "\n",
        "for epoch in range(600000+1):\n",
        "    linear = slope*X + bias\n",
        "    y_pred = 1/(1+np.exp(-linear)) ##logistic function\n",
        "    loss = BCE(y, y_pred)\n",
        "    epoch_loss.append(loss)\n",
        "\n",
        "\n",
        "    if(epoch%50000 == 0):\n",
        "        ######demo purpose only#####\n",
        "        display.display(plt.gcf())\n",
        "        display.clear_output(wait=True)\n",
        "        ##########plotting##########\n",
        "        fig, (ax0, ax1) = plt.subplots(ncols=2, constrained_layout=True)\n",
        "        fig.suptitle('epoch = {0}'.format(epoch))\n",
        "        ax0.scatter(X, y)\n",
        "        ax0.plot(X, y_pred, 'r')\n",
        "        ax0.set_title('slope = {0:.1f}, bias = {1:.1f}'.format(slope, bias))\n",
        "        ax1.set_title('bce = {0:.2f}'.format(loss))\n",
        "        ax1.plot(epoch_loss)\n",
        "        plt.show()\n",
        "        time.sleep(1)\n",
        "        ############################\n",
        "    \n",
        "    ###slope and bias derivatives with respect to loss###\n",
        "    dLoss_dLogistic = (-y/y_pred) + ((1-y)/(1-y_pred))\n",
        "    dLogistic_dLinear = y_pred*(1-y_pred)\n",
        "    dLinear_dSlope = X\n",
        "    ##computational graph\n",
        "    dLoss_dSlope = -np.sum(dLoss_dLogistic * dLogistic_dLinear * dLinear_dSlope) \n",
        "    dLoss_dBias = -np.sum(dLoss_dLogistic * dLogistic_dLinear)\n",
        "\n",
        "    slope += learning_rate * dLoss_dSlope\n",
        "    bias += learning_rate * dLoss_dBias"
      ],
      "metadata": {
        "colab": {
          "base_uri": "https://localhost:8080/",
          "height": 330
        },
        "id": "YR5tygwlRQF4",
        "outputId": "c46dabbf-f7c2-45db-b6f0-7e410ff3d37d"
      },
      "execution_count": null,
      "outputs": [
        {
          "output_type": "display_data",
          "data": {
            "text/plain": [
              "<Figure size 432x288 with 0 Axes>"
            ]
          },
          "metadata": {}
        },
        {
          "output_type": "display_data",
          "data": {
            "text/plain": [
              "<Figure size 432x288 with 2 Axes>"
            ],
            "image/png": "[encoded data removed]"
          },
          "metadata": {
            "needs_background": "light"
          }
        }
      ]
    }
  ]
}